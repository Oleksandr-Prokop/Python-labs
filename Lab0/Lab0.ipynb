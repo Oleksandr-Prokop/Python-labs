{
 "cells": [
  {
   "cell_type": "markdown",
   "metadata": {},
   "source": [
    "<!DOCTYPE html>\n",
    "<html lang=\"uk\">\n",
    "<head>\n",
    "    <meta charset=\"UTF-8\">\n",
    "    <meta name=\"viewport\" content=\"width=device-width, initial-scale=1.0\">\n",
    "    <title>Греція</title>\n",
    "</head>\n",
    "<body>\n",
    "    <header>\n",
    "        <h1>Греція</h1>\n",
    "        <img src=\"https://upload.wikimedia.org/wikipedia/commons/thumb/5/5c/Flag_of_Greece.svg/188px-Flag_of_Greece.svg.png\" alt=\"Прапор Греції\">\n",
    "    </header>\n",
    "\n",
    "<section>\n",
    "    <h2>Загальна інформація</h2>\n",
    "    <p><strong>Площа:</strong> 131 957 км²</p>\n",
    "    <p><strong>Населення:</strong> близько 10,7 млн осіб (за даними 2023 року)</p>\n",
    "    <p><strong>Державний устрій:</strong> парламентська республіка</p>\n",
    "<section>\n",
    "        <h2>Видатні персоналії</h2>\n",
    "        <ul>\n",
    "            <li><strong>Сократ</strong> — давньогрецький філософ.</li>\n",
    "            <li><strong>Арістотель</strong> — філософ, учень Платона та вчитель Олександра Македонського.</li>\n",
    "            <li><strong>Гомер</strong> — поет, автор епічних поем \"Іліада\" і \"Одіссея\".</li>\n",
    "        </ul>\n",
    "    </section>\n",
    "\n",
    "<section>\n",
    "    <h2>Пам’ятки культури та природи</h2>\n",
    "    <ul>\n",
    "        <li><strong>Акрополь в Афінах</strong> — історична пам'ятка та символ античної культури.</li>\n",
    "        <li><strong>Метеори</strong> — унікальні монастирі на скелях.</li>\n",
    "        <li><strong>Острів Санторіні</strong> — відомий своїми мальовничими краєвидами.</li>\n",
    "        <li><strong>Олімп</strong> — найвища гора Греції, за легендою, місце перебування богів.</li>\n",
    "    </ul>\n",
    "</section>\n",
    "\n",
    "<section>\n",
    "    <h2>Історична довідка</h2>\n",
    "    <p>Греція — колиска європейської цивілізації, яка дала світові демократію, філософію, Олімпійські ігри, театральне мистецтво та інші важливі здобутки.</p>\n",
    "</section>\n",
    "\n",
    "<footer>\n",
    "    <p>Джерело: відкриті дані про Грецію (2023)</p>\n",
    "</footer>\n",
    "</body>\n",
    "</html>"
   ]
  },
  {
   "cell_type": "code",
   "execution_count": 1,
   "metadata": {},
   "outputs": [
    {
     "name": "stdout",
     "output_type": "stream",
     "text": [
      "Число 24 можна представити як 5+19\n"
     ]
    }
   ],
   "source": [
    "import random\n",
    "\n",
    "def is_prime(n):\n",
    "    \"\"\"Перевіряє, чи є число n простим.\"\"\"\n",
    "    if n <= 1:\n",
    "        return False\n",
    "    if n <= 3:\n",
    "        return True\n",
    "    if n % 2 == 0 or n % 3 == 0:\n",
    "        return False\n",
    "    i = 5\n",
    "    while i * i <= n:\n",
    "        if n % i == 0 or n % (i + 2) == 0:\n",
    "            return False\n",
    "        i += 6\n",
    "    return True\n",
    "\n",
    "def find_goldbach_pair(even_number):\n",
    "    \"\"\"Знаходить пару простих чисел, які у сумі дають парне число.\"\"\"\n",
    "    for i in range(2, even_number):\n",
    "        if is_prime(i) and is_prime(even_number - i):\n",
    "            return i, even_number - i\n",
    "    return None\n",
    "\n",
    "def task_1():\n",
    "    \"\"\"Генерує випадкове парне число і перевіряє гіпотезу Гольдбаха.\"\"\"\n",
    "    even_number = random.randint(4, 100)  # Генеруємо випадкове парне число в межах 4-100\n",
    "    if even_number % 2 != 0:\n",
    "        even_number += 1  # Гарантуємо, що число парне\n",
    "\n",
    "    pair = find_goldbach_pair(even_number)\n",
    "    if pair:\n",
    "        print(f\"Число {even_number} можна представити як {pair[0]}+{pair[1]}\")\n",
    "    else:\n",
    "        print(f\"Не вдалося знайти пару простих чисел для {even_number}.\")\n",
    "\n",
    "# Приклад виклику\n",
    "if __name__ == \"__main__\":\n",
    "    task_1()"
   ]
  },
  {
   "cell_type": "code",
   "execution_count": null,
   "metadata": {},
   "outputs": [],
   "source": []
  }
 ],
 "metadata": {
  "kernelspec": {
   "display_name": "Python 3 (ipykernel)",
   "language": "python",
   "name": "python3"
  },
  "language_info": {
   "codemirror_mode": {
    "name": "ipython",
    "version": 3
   },
   "file_extension": ".py",
   "mimetype": "text/x-python",
   "name": "python",
   "nbconvert_exporter": "python",
   "pygments_lexer": "ipython3",
   "version": "3.13.1"
  }
 },
 "nbformat": 4,
 "nbformat_minor": 4
}
